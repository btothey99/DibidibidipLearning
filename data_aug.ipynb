{
  "nbformat": 4,
  "nbformat_minor": 0,
  "metadata": {
    "colab": {
      "name": "data_aug.ipynb",
      "provenance": [],
      "collapsed_sections": [],
      "authorship_tag": "ABX9TyM9B/skNMJgBpmXfJY5GmaT",
      "include_colab_link": true
    },
    "kernelspec": {
      "name": "python3",
      "display_name": "Python 3"
    },
    "accelerator": "GPU"
  },
  "cells": [
    {
      "cell_type": "markdown",
      "metadata": {
        "id": "view-in-github",
        "colab_type": "text"
      },
      "source": [
        "<a href=\"https://colab.research.google.com/github/btothey99/DibidibidipLearning/blob/master/data_aug.ipynb\" target=\"_parent\"><img src=\"https://colab.research.google.com/assets/colab-badge.svg\" alt=\"Open In Colab\"/></a>"
      ]
    },
    {
      "cell_type": "code",
      "metadata": {
        "colab": {
          "base_uri": "https://localhost:8080/"
        },
        "id": "3_mw3OOWbP4Q",
        "outputId": "c62f9238-f58b-4f61-9e84-d33253f7e827"
      },
      "source": [
        "from google.colab import drive\r\n",
        "drive.mount('/content/drive')"
      ],
      "execution_count": null,
      "outputs": [
        {
          "output_type": "stream",
          "text": [
            "Mounted at /content/drive\n"
          ],
          "name": "stdout"
        }
      ]
    },
    {
      "cell_type": "code",
      "metadata": {
        "id": "mvJZ7KW2AjoU",
        "colab": {
          "base_uri": "https://localhost:8080/"
        },
        "outputId": "17e8e891-bfb8-48f1-d68a-3b57749f132b"
      },
      "source": [
        "from keras.preprocessing.image import ImageDataGenerator\r\n",
        "import matplotlib.pylab as plt\r\n",
        " \r\n",
        "base_dir = '/content/drive/MyDrive/Colab Notebooks/deskdata'\r\n",
        "\r\n",
        "\r\n",
        "\r\n",
        "#validation_dir = os.path.join(base_dir, 'validation')\r\n",
        "\r\n",
        "\r\n",
        "BATCH_SIZE = 100\r\n",
        "IMG_SHAPE  = 150 # Our training data consists of images with width of 150 pixels and height of 150 pixels\r\n",
        "\r\n",
        "#train 시키기\r\n",
        "\r\n",
        "image_gen_train = ImageDataGenerator(\r\n",
        "      rescale=1./255,\r\n",
        "      rotation_range=40,\r\n",
        "      width_shift_range=0.2,\r\n",
        "      height_shift_range=0.2,\r\n",
        "      shear_range=0.2,\r\n",
        "      zoom_range=0.2,\r\n",
        "      horizontal_flip=True,\r\n",
        "      fill_mode='nearest')\r\n",
        "\r\n",
        "train_data_gen = image_gen_train.flow_from_directory(batch_size=BATCH_SIZE,\r\n",
        "                                                     directory=base_dir,\r\n",
        "                                                     shuffle=True,\r\n",
        "                                                     target_size=(IMG_SHAPE,IMG_SHAPE),\r\n",
        "                                                     class_mode='binary')\r\n"
      ],
      "execution_count": null,
      "outputs": [
        {
          "output_type": "stream",
          "text": [
            "Found 499 images belonging to 2 classes.\n"
          ],
          "name": "stdout"
        }
      ]
    },
    {
      "cell_type": "code",
      "metadata": {
        "id": "MD2Ztnm5CTXR"
      },
      "source": [
        "import keras\r\n",
        "import cv2\r\n",
        "import os\r\n",
        "import glob\r\n",
        "from keras.preprocessing.image import ImageDataGenerator, array_to_img, img_to_array, load_img\r\n",
        "datagen = ImageDataGenerator(rotation_range =15, \r\n",
        "                         width_shift_range = 0.2, \r\n",
        "                         height_shift_range = 0.2,  \r\n",
        "                         rescale=1./255, \r\n",
        "                         shear_range=0.2, \r\n",
        "                         zoom_range=0.2, \r\n",
        "                         horizontal_flip = True, \r\n",
        "                         fill_mode = 'nearest', \r\n",
        "                         data_format='channels_last', \r\n",
        "                         brightness_range=[0.5, 1.5]) \r\n",
        "\r\n",
        "\r\n",
        "img_dir = \"/content/drive/MyDrive/Colab Notebooks/deskdata/false\" # Enter Directory of all images \r\n",
        "data_path = os.path.join(img_dir,'*g')\r\n",
        "files = glob.glob(data_path)\r\n",
        "data = []\r\n",
        "for f1 in files:\r\n",
        "    img = cv2.imread(f1)\r\n",
        "    data.append(img)\r\n",
        "\r\n",
        "x = img_to_array(img)\r\n",
        "x = x.reshape((1,) + x.shape)\r\n",
        "\r\n",
        "i = 0\r\n",
        "path, dirs, files = next(os.walk(\"/content/drive/MyDrive/Colab Notebooks/deskdata/false\"))\r\n",
        "file_count = len(files) #to find number of files in folder\r\n",
        "\r\n",
        "for batch in datagen.flow (x, batch_size=1, save_to_dir =r'/content/drive/MyDrive/Colab Notebooks/deskdata/aug_false',save_prefix=\"a\",save_format='jpg'):\r\n",
        "    i+=1\r\n",
        "    if i==file_count:\r\n",
        "      break"
      ],
      "execution_count": null,
      "outputs": []
    },
    {
      "cell_type": "code",
      "metadata": {
        "id": "0ORc6D1w888u"
      },
      "source": [
        "#로컬 이미지로 데이터셋 만들기 \r\n",
        "import os, re, glob  \r\n",
        "import cv2  #openCV 라이브러리 import하기\r\n",
        "import numpy as np  \r\n",
        "from sklearn.model_selection import train_test_split \r\n",
        "\r\n",
        " \r\n",
        "\r\n",
        "#현재 로컬 이미지 폴더 구조\r\n",
        "\r\n",
        "#dataset/25/road, water, building, green\r\n",
        "imagePath = '/content/drive/MyDrive/Colab Notebooks/deskdata'\r\n",
        "categories = [\"true\", \"false\"]\r\n",
        "\r\n",
        "#dataset/25 하위 폴더의 이름이 카테고리가 됨. 동일하게 맞춰줘야한다.\r\n",
        "nb_classes = len(categories)  \r\n",
        "\r\n",
        "image_w = 28 \r\n",
        "image_h = 28 \r\n",
        "\r\n",
        "X = []  \r\n",
        "Y = []  \r\n",
        "\r\n",
        "for idx, cate in enumerate(categories):  \r\n",
        "    label = [0 for i in range(nb_classes)]  \r\n",
        "    label[idx] = 1  \r\n",
        "    image_dir = imagePath+'/'+cate+'/'  \r\n",
        "     \r\n",
        "    for top, dir, f in os.walk(image_dir): \r\n",
        "        for filename in f:  \r\n",
        "            print(image_dir+filename)  \r\n",
        "            img = cv2.imread(image_dir+filename)  \r\n",
        "            img = cv2.resize(img, None, fx=image_w/img.shape[1], fy=image_h/img.shape[0])  \r\n",
        "            X.append(img/256)  \r\n",
        "            Y.append(label)  \r\n",
        "             \r\n",
        "X = np.array(X,dtype=object)  \r\n",
        "Y = np.array(Y,dtype=object)\r\n",
        "\r\n",
        "X_train, X_test, Y_train, Y_test = train_test_split(X,Y)  \r\n",
        "xy = (X_train, X_test, Y_train, Y_test) \r\n",
        "\r\n",
        " \r\n",
        "\r\n",
        "#생성된 데이터셋을 저장할 경로와 파일이름 지정\r\n",
        "np.save(\"./imageDataList_25.npy\", xy)"
      ],
      "execution_count": null,
      "outputs": []
    }
  ]
}