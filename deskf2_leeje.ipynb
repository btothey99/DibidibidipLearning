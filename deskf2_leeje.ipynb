{
  "nbformat": 4,
  "nbformat_minor": 0,
  "metadata": {
    "colab": {
      "name": "deskf2_leeje.ipynb",
      "provenance": [],
      "collapsed_sections": [],
      "authorship_tag": "ABX9TyP+ofmB/DALvia3wOyI+Z4O",
      "include_colab_link": true
    },
    "kernelspec": {
      "name": "python3",
      "display_name": "Python 3"
    },
    "accelerator": "GPU"
  },
  "cells": [
    {
      "cell_type": "markdown",
      "metadata": {
        "id": "view-in-github",
        "colab_type": "text"
      },
      "source": [
        "<a href=\"https://colab.research.google.com/github/btothey99/DibidibidipLearning/blob/master/deskf2_leeje.ipynb\" target=\"_parent\"><img src=\"https://colab.research.google.com/assets/colab-badge.svg\" alt=\"Open In Colab\"/></a>"
      ]
    },
    {
      "cell_type": "code",
      "metadata": {
        "id": "2CkxTvP9_gxw"
      },
      "source": [
        "!pip install keras==2.3.1\r\n",
        "!pip install tensorflow==2.2.0"
      ],
      "execution_count": null,
      "outputs": []
    },
    {
      "cell_type": "code",
      "metadata": {
        "id": "5wKTiXTDR-M2",
        "colab": {
          "base_uri": "https://localhost:8080/"
        },
        "outputId": "af2550a1-79c0-4871-a6b5-131089afa25e"
      },
      "source": [
        "from google.colab import drive\r\n",
        "drive.mount('/content/drive')\r\n"
      ],
      "execution_count": 16,
      "outputs": [
        {
          "output_type": "stream",
          "text": [
            "Drive already mounted at /content/drive; to attempt to forcibly remount, call drive.mount(\"/content/drive\", force_remount=True).\n"
          ],
          "name": "stdout"
        }
      ]
    },
    {
      "cell_type": "code",
      "metadata": {
        "colab": {
          "base_uri": "https://localhost:8080/"
        },
        "id": "8q1B4jM8U4P5",
        "outputId": "6a2f4fa7-dd39-4f9d-8b4c-9ad9394d29b8"
      },
      "source": [
        "from keras.utils import np_utils\r\n",
        "from keras.models import Sequential\r\n",
        "from keras.layers import Dense\r\n",
        "from keras.callbacks import ModelCheckpoint, EarlyStopping\r\n",
        "import numpy as np\r\n",
        "import tensorflow as tf\r\n",
        "import os\r\n",
        "import pandas as pd\r\n",
        "import numpy as np\r\n",
        "from keras.preprocessing.image import array_to_img, img_to_array, load_img\r\n",
        "\r\n",
        "\r\n",
        "# 기본 경로\r\n",
        "base_dir = '/content/drive/MyDrive/Colab Notebooks/deskdata'\r\n",
        "\r\n",
        "train_dir = os.path.join(base_dir, 'train')\r\n",
        "validation_dir = os.path.join(base_dir, 'validation')\r\n",
        "\r\n",
        "# 훈련에 사용되는 이미지 경로\r\n",
        "train_true_dir = os.path.join(train_dir, 'true')\r\n",
        "train_false_dir = os.path.join(train_dir, 'false')\r\n",
        "print(train_true_dir)\r\n",
        "print(train_false_dir)\r\n",
        "\r\n",
        "# 테스트에 사용되는 이미지 경로\r\n",
        "validation_true_dir  = os.path.join(validation_dir, 'true')\r\n",
        "validation_false_dir = os.path.join(validation_dir, 'false')\r\n",
        "print(validation_true_dir)\r\n",
        "print(validation_false_dir)\r\n",
        "\r\n",
        "\r\n"
      ],
      "execution_count": 17,
      "outputs": [
        {
          "output_type": "stream",
          "text": [
            "/content/drive/MyDrive/Colab Notebooks/deskdata/train/true\n",
            "/content/drive/MyDrive/Colab Notebooks/deskdata/train/false\n",
            "/content/drive/MyDrive/Colab Notebooks/deskdata/validation/true\n",
            "/content/drive/MyDrive/Colab Notebooks/deskdata/validation/false\n"
          ],
          "name": "stdout"
        }
      ]
    },
    {
      "cell_type": "code",
      "metadata": {
        "colab": {
          "base_uri": "https://localhost:8080/"
        },
        "id": "2m3Hxx7evbKu",
        "outputId": "8784cc12-d377-4bcc-fd1f-db1d89b011cc"
      },
      "source": [
        "import tensorflow as tf\r\n",
        "\r\n",
        "\r\n",
        "model = tf.keras.models.Sequential([\r\n",
        "  tf.keras.layers.Conv2D(16, (3,3), activation='relu', input_shape=(150, 150, 3)),\r\n",
        "  tf.keras.layers.MaxPooling2D(2,2),\r\n",
        "  tf.keras.layers.Conv2D(32, (3,3), activation='relu'),\r\n",
        "  tf.keras.layers.MaxPooling2D(2,2),\r\n",
        "  tf.keras.layers.Conv2D(64, (3,3), activation='relu'),\r\n",
        "  tf.keras.layers.MaxPooling2D(2,2),\r\n",
        "  tf.keras.layers.Flatten(),\r\n",
        "  tf.keras.layers.Dense(512, activation='relu'),\r\n",
        "  tf.keras.layers.Dense(1, activation='sigmoid')\r\n",
        "])\r\n",
        "\r\n",
        "model.summary()"
      ],
      "execution_count": 18,
      "outputs": [
        {
          "output_type": "stream",
          "text": [
            "Model: \"sequential_2\"\n",
            "_________________________________________________________________\n",
            "Layer (type)                 Output Shape              Param #   \n",
            "=================================================================\n",
            "conv2d_6 (Conv2D)            (None, 148, 148, 16)      448       \n",
            "_________________________________________________________________\n",
            "max_pooling2d_6 (MaxPooling2 (None, 74, 74, 16)        0         \n",
            "_________________________________________________________________\n",
            "conv2d_7 (Conv2D)            (None, 72, 72, 32)        4640      \n",
            "_________________________________________________________________\n",
            "max_pooling2d_7 (MaxPooling2 (None, 36, 36, 32)        0         \n",
            "_________________________________________________________________\n",
            "conv2d_8 (Conv2D)            (None, 34, 34, 64)        18496     \n",
            "_________________________________________________________________\n",
            "max_pooling2d_8 (MaxPooling2 (None, 17, 17, 64)        0         \n",
            "_________________________________________________________________\n",
            "flatten_2 (Flatten)          (None, 18496)             0         \n",
            "_________________________________________________________________\n",
            "dense_4 (Dense)              (None, 512)               9470464   \n",
            "_________________________________________________________________\n",
            "dense_5 (Dense)              (None, 1)                 513       \n",
            "=================================================================\n",
            "Total params: 9,494,561\n",
            "Trainable params: 9,494,561\n",
            "Non-trainable params: 0\n",
            "_________________________________________________________________\n"
          ],
          "name": "stdout"
        }
      ]
    },
    {
      "cell_type": "code",
      "metadata": {
        "id": "N9PHdws4vkao"
      },
      "source": [
        "#모델컴파일\r\n",
        "from tensorflow.keras.optimizers import RMSprop\r\n",
        "\r\n",
        "model.compile(optimizer=RMSprop(lr=0.001),\r\n",
        "            loss='binary_crossentropy',\r\n",
        "            metrics = ['accuracy'])"
      ],
      "execution_count": 19,
      "outputs": []
    },
    {
      "cell_type": "code",
      "metadata": {
        "colab": {
          "base_uri": "https://localhost:8080/"
        },
        "id": "BqmgQgSJnSeT",
        "outputId": "b062b117-abc9-485c-be17-ab85c7d61d6f"
      },
      "source": [
        "from tensorflow.keras.preprocessing.image import ImageDataGenerator\r\n",
        "\r\n",
        "\r\n",
        "train_datagen = ImageDataGenerator( rescale = 1.0/255. )\r\n",
        "test_datagen  = ImageDataGenerator( rescale = 1.0/255. )\r\n",
        "\r\n",
        "train_generator = train_datagen.flow_from_directory(train_dir,\r\n",
        "                                                  batch_size=20,\r\n",
        "                                                  class_mode='binary',\r\n",
        "                                                  target_size=(150, 150))\r\n",
        "validation_generator =  test_datagen.flow_from_directory(validation_dir,\r\n",
        "                                                       batch_size=20,\r\n",
        "                                                       class_mode  = 'binary',\r\n",
        "                                                       target_size = (150, 150))"
      ],
      "execution_count": 20,
      "outputs": [
        {
          "output_type": "stream",
          "text": [
            "Found 417 images belonging to 2 classes.\n",
            "Found 31 images belonging to 2 classes.\n"
          ],
          "name": "stdout"
        }
      ]
    },
    {
      "cell_type": "code",
      "metadata": {
        "id": "_rS97-h3wqj6",
        "colab": {
          "base_uri": "https://localhost:8080/"
        },
        "outputId": "cf3a7e4a-1fd5-439f-d34d-36c8c02e94d8"
      },
      "source": [
        "#모델 훈련하기 \r\n",
        "\r\n",
        "#이것도 다른 것\r\n",
        "history=model.fit_generator(\r\n",
        "   train_generator,\r\n",
        "    steps_per_epoch=20,\r\n",
        "    epochs=50,\r\n",
        "    validation_data=validation_generator,\r\n",
        "    validation_steps=2,\r\n",
        ")\r\n",
        "\r\n"
      ],
      "execution_count": 23,
      "outputs": [
        {
          "output_type": "stream",
          "text": [
            "/usr/local/lib/python3.6/dist-packages/tensorflow/python/keras/engine/training.py:1844: UserWarning: `Model.fit_generator` is deprecated and will be removed in a future version. Please use `Model.fit`, which supports generators.\n",
            "  warnings.warn('`Model.fit_generator` is deprecated and '\n"
          ],
          "name": "stderr"
        },
        {
          "output_type": "stream",
          "text": [
            "Epoch 1/50\n",
            "20/20 [==============================] - 9s 457ms/step - loss: 2.2998e-05 - accuracy: 1.0000 - val_loss: 4.9570 - val_accuracy: 0.3226\n",
            "Epoch 2/50\n",
            "20/20 [==============================] - 8s 424ms/step - loss: 4.6620e-06 - accuracy: 1.0000 - val_loss: 5.3320 - val_accuracy: 0.4839\n",
            "Epoch 3/50\n",
            "20/20 [==============================] - 8s 428ms/step - loss: 2.6282e-06 - accuracy: 1.0000 - val_loss: 5.8933 - val_accuracy: 0.4516\n",
            "Epoch 4/50\n",
            "20/20 [==============================] - 8s 419ms/step - loss: 4.6384e-07 - accuracy: 1.0000 - val_loss: 6.4708 - val_accuracy: 0.4516\n",
            "Epoch 5/50\n",
            "20/20 [==============================] - 8s 419ms/step - loss: 2.0168e-07 - accuracy: 1.0000 - val_loss: 6.9955 - val_accuracy: 0.3226\n",
            "Epoch 6/50\n",
            "20/20 [==============================] - 8s 417ms/step - loss: 1.2650e-07 - accuracy: 1.0000 - val_loss: 7.6120 - val_accuracy: 0.3548\n",
            "Epoch 7/50\n",
            "20/20 [==============================] - 8s 415ms/step - loss: 3.9076e-08 - accuracy: 1.0000 - val_loss: 8.3769 - val_accuracy: 0.3548\n",
            "Epoch 8/50\n",
            "20/20 [==============================] - 8s 422ms/step - loss: 1.1690e-08 - accuracy: 1.0000 - val_loss: 8.7553 - val_accuracy: 0.3871\n",
            "Epoch 9/50\n",
            "20/20 [==============================] - 8s 413ms/step - loss: 7.9391e-09 - accuracy: 1.0000 - val_loss: 9.6124 - val_accuracy: 0.3226\n",
            "Epoch 10/50\n",
            "20/20 [==============================] - 8s 411ms/step - loss: 3.3572e-09 - accuracy: 1.0000 - val_loss: 9.7508 - val_accuracy: 0.3226\n",
            "Epoch 11/50\n",
            "20/20 [==============================] - 8s 404ms/step - loss: 1.7236e-09 - accuracy: 1.0000 - val_loss: 9.9510 - val_accuracy: 0.3226\n",
            "Epoch 12/50\n",
            "20/20 [==============================] - 8s 408ms/step - loss: 1.1425e-09 - accuracy: 1.0000 - val_loss: 10.1003 - val_accuracy: 0.3226\n",
            "Epoch 13/50\n",
            "20/20 [==============================] - 8s 410ms/step - loss: 9.4240e-10 - accuracy: 1.0000 - val_loss: 10.5205 - val_accuracy: 0.3226\n",
            "Epoch 14/50\n",
            "20/20 [==============================] - 8s 403ms/step - loss: 6.6635e-10 - accuracy: 1.0000 - val_loss: 10.5775 - val_accuracy: 0.3226\n",
            "Epoch 15/50\n",
            "20/20 [==============================] - 8s 404ms/step - loss: 4.7319e-10 - accuracy: 1.0000 - val_loss: 10.5458 - val_accuracy: 0.3226\n",
            "Epoch 16/50\n",
            "20/20 [==============================] - 8s 405ms/step - loss: 4.3049e-10 - accuracy: 1.0000 - val_loss: 10.5364 - val_accuracy: 0.3226\n",
            "Epoch 17/50\n",
            "20/20 [==============================] - 8s 406ms/step - loss: 5.1470e-10 - accuracy: 1.0000 - val_loss: 10.6728 - val_accuracy: 0.3226\n",
            "Epoch 18/50\n",
            "20/20 [==============================] - 8s 402ms/step - loss: 4.8713e-10 - accuracy: 1.0000 - val_loss: 10.8289 - val_accuracy: 0.3226\n",
            "Epoch 19/50\n",
            "20/20 [==============================] - 8s 406ms/step - loss: 3.3787e-10 - accuracy: 1.0000 - val_loss: 10.7821 - val_accuracy: 0.3226\n",
            "Epoch 20/50\n",
            "20/20 [==============================] - 8s 414ms/step - loss: 4.8067e-10 - accuracy: 1.0000 - val_loss: 10.7802 - val_accuracy: 0.3871\n",
            "Epoch 21/50\n",
            "20/20 [==============================] - 8s 404ms/step - loss: 3.8344e-10 - accuracy: 1.0000 - val_loss: 11.1306 - val_accuracy: 0.3226\n",
            "Epoch 22/50\n",
            "20/20 [==============================] - 8s 401ms/step - loss: 2.9930e-10 - accuracy: 1.0000 - val_loss: 11.0617 - val_accuracy: 0.3226\n",
            "Epoch 23/50\n",
            "20/20 [==============================] - 8s 399ms/step - loss: 2.5650e-10 - accuracy: 1.0000 - val_loss: 11.0308 - val_accuracy: 0.3226\n",
            "Epoch 24/50\n",
            "20/20 [==============================] - 8s 404ms/step - loss: 3.8298e-10 - accuracy: 1.0000 - val_loss: 11.1461 - val_accuracy: 0.3226\n",
            "Epoch 25/50\n",
            "20/20 [==============================] - 8s 400ms/step - loss: 2.7587e-10 - accuracy: 1.0000 - val_loss: 11.1087 - val_accuracy: 0.3226\n",
            "Epoch 26/50\n",
            "20/20 [==============================] - 8s 400ms/step - loss: 3.0817e-10 - accuracy: 1.0000 - val_loss: 11.0932 - val_accuracy: 0.3226\n",
            "Epoch 27/50\n",
            "20/20 [==============================] - 8s 402ms/step - loss: 3.6529e-10 - accuracy: 1.0000 - val_loss: 11.0939 - val_accuracy: 0.3226\n",
            "Epoch 28/50\n",
            "20/20 [==============================] - 8s 402ms/step - loss: 2.9933e-10 - accuracy: 1.0000 - val_loss: 11.0694 - val_accuracy: 0.3226\n",
            "Epoch 29/50\n",
            "20/20 [==============================] - 8s 399ms/step - loss: 2.2195e-10 - accuracy: 1.0000 - val_loss: 11.0636 - val_accuracy: 0.3226\n",
            "Epoch 30/50\n",
            "20/20 [==============================] - 8s 407ms/step - loss: 3.1004e-10 - accuracy: 1.0000 - val_loss: 11.0610 - val_accuracy: 0.3226\n",
            "Epoch 31/50\n",
            "20/20 [==============================] - 8s 398ms/step - loss: 3.6824e-10 - accuracy: 1.0000 - val_loss: 11.0607 - val_accuracy: 0.3871\n",
            "Epoch 32/50\n",
            "20/20 [==============================] - 8s 402ms/step - loss: 3.9377e-10 - accuracy: 1.0000 - val_loss: 11.2057 - val_accuracy: 0.3226\n",
            "Epoch 33/50\n",
            "20/20 [==============================] - 8s 399ms/step - loss: 2.1657e-10 - accuracy: 1.0000 - val_loss: 11.1955 - val_accuracy: 0.3226\n",
            "Epoch 34/50\n",
            "20/20 [==============================] - 8s 400ms/step - loss: 2.3744e-10 - accuracy: 1.0000 - val_loss: 11.1912 - val_accuracy: 0.3226\n",
            "Epoch 35/50\n",
            "20/20 [==============================] - 8s 403ms/step - loss: 2.5235e-10 - accuracy: 1.0000 - val_loss: 11.1888 - val_accuracy: 0.3871\n",
            "Epoch 36/50\n",
            "20/20 [==============================] - 8s 401ms/step - loss: 3.0612e-10 - accuracy: 1.0000 - val_loss: 11.1889 - val_accuracy: 0.3871\n",
            "Epoch 37/50\n",
            "20/20 [==============================] - 8s 403ms/step - loss: 3.5832e-10 - accuracy: 1.0000 - val_loss: 11.1905 - val_accuracy: 0.3871\n",
            "Epoch 38/50\n",
            "20/20 [==============================] - 8s 399ms/step - loss: 4.1943e-10 - accuracy: 1.0000 - val_loss: 11.1916 - val_accuracy: 0.3871\n",
            "Epoch 39/50\n",
            "20/20 [==============================] - 8s 399ms/step - loss: 2.4024e-10 - accuracy: 1.0000 - val_loss: 11.1938 - val_accuracy: 0.3871\n",
            "Epoch 40/50\n",
            "20/20 [==============================] - 8s 408ms/step - loss: 4.0012e-10 - accuracy: 1.0000 - val_loss: 11.3369 - val_accuracy: 0.3226\n",
            "Epoch 41/50\n",
            "20/20 [==============================] - 8s 398ms/step - loss: 2.0649e-10 - accuracy: 1.0000 - val_loss: 11.3292 - val_accuracy: 0.3871\n",
            "Epoch 42/50\n",
            "20/20 [==============================] - 8s 401ms/step - loss: 2.7466e-10 - accuracy: 1.0000 - val_loss: 11.3261 - val_accuracy: 0.3871\n",
            "Epoch 43/50\n",
            "20/20 [==============================] - 8s 401ms/step - loss: 2.9494e-10 - accuracy: 1.0000 - val_loss: 11.3240 - val_accuracy: 0.3871\n",
            "Epoch 44/50\n",
            "20/20 [==============================] - 8s 401ms/step - loss: 3.0423e-10 - accuracy: 1.0000 - val_loss: 11.3231 - val_accuracy: 0.3871\n",
            "Epoch 45/50\n",
            "20/20 [==============================] - 8s 394ms/step - loss: 3.6057e-10 - accuracy: 1.0000 - val_loss: 11.3238 - val_accuracy: 0.3871\n",
            "Epoch 46/50\n",
            "20/20 [==============================] - 8s 408ms/step - loss: 3.7905e-10 - accuracy: 1.0000 - val_loss: 11.3250 - val_accuracy: 0.3871\n",
            "Epoch 47/50\n",
            "20/20 [==============================] - 8s 416ms/step - loss: 4.1821e-10 - accuracy: 1.0000 - val_loss: 11.3275 - val_accuracy: 0.3871\n",
            "Epoch 48/50\n",
            "20/20 [==============================] - 8s 398ms/step - loss: 4.5103e-10 - accuracy: 1.0000 - val_loss: 11.7106 - val_accuracy: 0.3226\n",
            "Epoch 49/50\n",
            "20/20 [==============================] - 8s 396ms/step - loss: 1.5568e-10 - accuracy: 1.0000 - val_loss: 11.6563 - val_accuracy: 0.3226\n",
            "Epoch 50/50\n",
            "20/20 [==============================] - 8s 404ms/step - loss: 1.5690e-10 - accuracy: 1.0000 - val_loss: 11.6285 - val_accuracy: 0.3226\n"
          ],
          "name": "stdout"
        }
      ]
    },
    {
      "cell_type": "code",
      "metadata": {
        "id": "LTNVDW46wvdV",
        "colab": {
          "base_uri": "https://localhost:8080/",
          "height": 545
        },
        "outputId": "7a627058-44aa-4af9-e264-b3a02ce93846"
      },
      "source": [
        "#정확도와 손실파악하기\r\n",
        "import matplotlib.pyplot as plt\r\n",
        "\r\n",
        "\r\n",
        "acc = history.history['accuracy']\r\n",
        "val_acc = history.history['val_accuracy']\r\n",
        "loss = history.history['loss']\r\n",
        "val_loss = history.history['val_loss']\r\n",
        "\r\n",
        "epochs = range(len(acc))\r\n",
        "\r\n",
        "plt.plot(epochs, acc, 'bo', label='Training accuracy')\r\n",
        "plt.plot(epochs, val_acc, 'b', label='Validation accuracy')\r\n",
        "plt.title('Training and validation accuracy')\r\n",
        "plt.legend()\r\n",
        "\r\n",
        "plt.figure()\r\n",
        "\r\n",
        "plt.plot(epochs, loss, 'go', label='Training Loss')\r\n",
        "plt.plot(epochs, val_loss, 'g', label='Validation Loss')\r\n",
        "plt.title('Training and validation loss')\r\n",
        "plt.legend()\r\n",
        "\r\n",
        "plt.show()"
      ],
      "execution_count": 24,
      "outputs": [
        {
          "output_type": "display_data",
          "data": {
            "image/png": "[encoded data removed]",
            "text/plain": [
              "<Figure size 432x288 with 1 Axes>"
            ]
          },
          "metadata": {
            "tags": [],
            "needs_background": "light"
          }
        },
        {
          "output_type": "display_data",
          "data": {
            "image/png": "[encoded data removed]",
            "text/plain": [
              "<Figure size 432x288 with 1 Axes>"
            ]
          },
          "metadata": {
            "tags": [],
            "needs_background": "light"
          }
        }
      ]
    },
    {
      "cell_type": "code",
      "metadata": {
        "id": "2mWXNJHLwz8z"
      },
      "source": [
        "#텍스트 이미지 분류하기\r\n",
        "\r\n",
        "import numpy as np\r\n",
        "from google.colab import files\r\n",
        "from keras.preprocessing import image\r\n",
        "\r\n",
        "uploaded=files.upload()\r\n",
        "\r\n",
        "for fn in uploaded.keys():\r\n",
        "\r\n",
        "  path='/content/' + fn\r\n",
        "  img=image.load_img(path, target_size=(150, 150))\r\n",
        "\r\n",
        "  x=image.img_to_array(img)\r\n",
        "  x=np.expand_dims(x, axis=0)\r\n",
        "  images = np.vstack([x])\r\n",
        "\r\n",
        "  classes = model.predict(images, batch_size=10)\r\n",
        "\r\n",
        "  print(classes[0])\r\n",
        "\r\n",
        "  if classes[0]>0:\r\n",
        "    print(fn + \" is a dog\")\r\n",
        "  else:\r\n",
        "    print(fn + \" is a cat\")"
      ],
      "execution_count": null,
      "outputs": []
    }
  ]
}